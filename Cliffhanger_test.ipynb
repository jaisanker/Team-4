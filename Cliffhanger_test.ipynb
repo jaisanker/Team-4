{
 "cells": [
  {
   "cell_type": "code",
   "execution_count": 25,
   "metadata": {},
   "outputs": [],
   "source": [
    "## Session 13.1.1 ##\n",
    "\n",
    "# importing packages\n",
    "import pandas as pd # data science essentials\n",
    "import matplotlib.pyplot as plt # data visualization\n",
    "\n",
    "# file = 'WDIW Dataset.xlsx'\n",
    "# wdi = pd.read_excel(file)\n",
    "\n",
    "# ch = wdi[wdi['Cool Name'] == 'Cliffhanger']\n",
    "# ch.to_excel('Cliffhanger_data.xlsx')\n",
    "\n",
    "\n",
    "file = 'Cliffhanger_data.xlsx'\n",
    "ch = pd.read_excel(file)\n",
    "\n",
    "# ch.iloc[0:20,67]\n",
    "\n",
    "for col in ch:\n",
    "    if ch[col].isnull().astype(int).sum() > 0:\n",
    "        ch['m_' + col] = ch[col].isnull().astype(int)\n",
    "\n",
    "\n",
    "\n",
    "# a = ch.isnull().sum().sum()\n",
    "# b = ch.iloc[ : , -64: ].sum().sum()\n",
    "\n",
    "# if a == b:\n",
    "#     print('\\nAll missing values accounted for.')\n",
    "# else:\n",
    "#     print('\\nSome missing values may be unaccounted for, please audit.')\n",
    "\n",
    "ch.to_excel('Cliffhanger_data_missing.xlsx')\n",
    "\n",
    "#Jai - Start\n",
    "\n",
    "#Jai - End\n",
    "\n",
    "\n",
    "\n"
   ]
  },
  {
   "cell_type": "code",
   "execution_count": null,
   "metadata": {},
   "outputs": [],
   "source": []
  }
 ],
 "metadata": {
  "kernelspec": {
   "display_name": "Python 3",
   "language": "python",
   "name": "python3"
  },
  "language_info": {
   "codemirror_mode": {
    "name": "ipython",
    "version": 3
   },
   "file_extension": ".py",
   "mimetype": "text/x-python",
   "name": "python",
   "nbconvert_exporter": "python",
   "pygments_lexer": "ipython3",
   "version": "3.7.3"
  },
  "toc": {
   "base_numbering": 1,
   "nav_menu": {},
   "number_sections": true,
   "sideBar": true,
   "skip_h1_title": false,
   "title_cell": "Table of Contents",
   "title_sidebar": "Contents",
   "toc_cell": false,
   "toc_position": {},
   "toc_section_display": true,
   "toc_window_display": false
  },
  "varInspector": {
   "cols": {
    "lenName": 16,
    "lenType": 16,
    "lenVar": 40
   },
   "kernels_config": {
    "python": {
     "delete_cmd_postfix": "",
     "delete_cmd_prefix": "del ",
     "library": "var_list.py",
     "varRefreshCmd": "print(var_dic_list())"
    },
    "r": {
     "delete_cmd_postfix": ") ",
     "delete_cmd_prefix": "rm(",
     "library": "var_list.r",
     "varRefreshCmd": "cat(var_dic_list()) "
    }
   },
   "types_to_exclude": [
    "module",
    "function",
    "builtin_function_or_method",
    "instance",
    "_Feature"
   ],
   "window_display": false
  }
 },
 "nbformat": 4,
 "nbformat_minor": 2
}
